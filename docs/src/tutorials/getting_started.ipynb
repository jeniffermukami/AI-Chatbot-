{
  "cells": [
    {
      "cell_type": "markdown",
      "id": "b8dd3ccc",
      "metadata": {
        "id": "b8dd3ccc"
      },
      "source": [
        "# Getting Started with Temporian\n",
        "\n",
        "[![Open in Colab](https://colab.research.google.com/assets/colab-badge.svg)](https://colab.research.google.com/github/google/temporian/blob/last-release/docs/src/tutorials/getting_started.ipynb)"
      ]
    },
    {
      "cell_type": "markdown",
      "id": "e649b5f1",
      "metadata": {
        "id": "e649b5f1"
      },
      "source": [
        "## Setup"
      ]
    },
    {
      "cell_type": "code",
      "source": [
        "import numpy as np\n",
        "import pandas as pd\n",
        "\n",
        "# Theoretical (Population) Standard Deviation\n",
        "def population_std(data):\n",
        "    mean = np.mean(data)\n",
        "    return np.sqrt(np.sum((data - mean) ** 2) / len(data))\n",
        "\n",
        "# Sample Standard Deviation\n",
        "def sample_std(data):\n",
        "    return np.std(data, ddof=1)\n",
        "\n",
        "# Rolling Standard Deviations\n",
        "def rolling_std(data, window_size, std_type='sample'):\n",
        "    if std_type == 'sample':\n",
        "        return data.rolling(window=window_size).apply(sample_std)\n",
        "    elif std_type == 'population':\n",
        "        return data.rolling(window=window_size).apply(population_std)\n",
        "    else:\n",
        "        raise ValueError(\"Invalid std_type. Choose either 'sample' or 'population'.\")\n",
        "\n",
        "# Example usage:\n",
        "data = pd.Series([2, 4, 4, 4, 5, 5, 7, 9])  # Replace this with your column\n",
        "window_size = 3\n",
        "\n",
        "rolling_sample_sd = rolling_std(data, window_size, std_type='sample')\n",
        "rolling_population_sd = rolling_std(data, window_size, std_type='population')\n",
        "\n",
        "print(rolling_sample_sd)\n",
        "print(rolling_population_sd)\n"
      ],
      "metadata": {
        "colab": {
          "base_uri": "https://localhost:8080/"
        },
        "id": "tEutFJ_ov24L",
        "outputId": "206a2d32-b7c9-47bc-89c5-cf16c0dc6ca8"
      },
      "id": "tEutFJ_ov24L",
      "execution_count": 1,
      "outputs": [
        {
          "output_type": "stream",
          "name": "stdout",
          "text": [
            "0         NaN\n",
            "1         NaN\n",
            "2    1.154701\n",
            "3    0.000000\n",
            "4    0.577350\n",
            "5    0.577350\n",
            "6    1.154701\n",
            "7    2.000000\n",
            "dtype: float64\n",
            "0         NaN\n",
            "1         NaN\n",
            "2    0.942809\n",
            "3    0.000000\n",
            "4    0.471405\n",
            "5    0.471405\n",
            "6    0.942809\n",
            "7    1.632993\n",
            "dtype: float64\n"
          ]
        }
      ]
    },
    {
      "cell_type": "code",
      "source": [],
      "metadata": {
        "id": "DNFx5J0lv2mH"
      },
      "id": "DNFx5J0lv2mH",
      "execution_count": null,
      "outputs": []
    },
    {
      "cell_type": "code",
      "execution_count": 2,
      "id": "3aebee14",
      "metadata": {
        "execution": {
          "iopub.execute_input": "2023-07-24T16:46:40.286416Z",
          "iopub.status.busy": "2023-07-24T16:46:40.285954Z",
          "iopub.status.idle": "2023-07-24T16:46:41.980090Z",
          "shell.execute_reply": "2023-07-24T16:46:41.979153Z"
        },
        "colab": {
          "base_uri": "https://localhost:8080/"
        },
        "id": "3aebee14",
        "outputId": "21bdfba0-770a-49c7-c205-a7afe23e8cea"
      },
      "outputs": [
        {
          "output_type": "stream",
          "name": "stdout",
          "text": [
            "\u001b[?25l     \u001b[90m━━━━━━━━━━━━━━━━━━━━━━━━━━━━━━━━━━━━━━━━\u001b[0m \u001b[32m0.0/637.8 kB\u001b[0m \u001b[31m?\u001b[0m eta \u001b[36m-:--:--\u001b[0m\r\u001b[2K     \u001b[91m━━━━━\u001b[0m\u001b[91m╸\u001b[0m\u001b[90m━━━━━━━━━━━━━━━━━━━━━━━━━━━━━━━━━━\u001b[0m \u001b[32m92.2/637.8 kB\u001b[0m \u001b[31m2.6 MB/s\u001b[0m eta \u001b[36m0:00:01\u001b[0m\r\u001b[2K     \u001b[91m━━━━━━━━━━━━━━━━━━━━━━━━━━━━━━━━━━━━━━\u001b[0m\u001b[91m╸\u001b[0m \u001b[32m634.9/637.8 kB\u001b[0m \u001b[31m9.8 MB/s\u001b[0m eta \u001b[36m0:00:01\u001b[0m\r\u001b[2K     \u001b[90m━━━━━━━━━━━━━━━━━━━━━━━━━━━━━━━━━━━━━━━\u001b[0m \u001b[32m637.8/637.8 kB\u001b[0m \u001b[31m8.2 MB/s\u001b[0m eta \u001b[36m0:00:00\u001b[0m\n",
            "\u001b[?25h"
          ]
        }
      ],
      "source": [
        "# Skip this cell if you are running the notebook locally and have already installed temporian.\n",
        "%pip install temporian -q"
      ]
    },
    {
      "cell_type": "code",
      "execution_count": 3,
      "id": "c71dc843",
      "metadata": {
        "id": "c71dc843"
      },
      "outputs": [],
      "source": [
        "import temporian as tp\n",
        "\n",
        "import pandas as pd\n",
        "import numpy as np"
      ]
    },
    {
      "cell_type": "code",
      "source": [
        "data"
      ],
      "metadata": {
        "colab": {
          "base_uri": "https://localhost:8080/"
        },
        "id": "U4SejifzwybS",
        "outputId": "ef4c1493-9562-4e93-f9d3-ab4b5dcfd18a"
      },
      "id": "U4SejifzwybS",
      "execution_count": 6,
      "outputs": [
        {
          "output_type": "execute_result",
          "data": {
            "text/plain": [
              "0    2\n",
              "1    4\n",
              "2    4\n",
              "3    4\n",
              "4    5\n",
              "5    5\n",
              "6    7\n",
              "7    9\n",
              "dtype: int64"
            ]
          },
          "metadata": {},
          "execution_count": 6
        }
      ]
    },
    {
      "cell_type": "code",
      "source": [
        "# # Convert the DataFrame into a Temporian EventSet\n",
        "# evset_signals = tp.from_pandas(data)\n",
        "\n",
        "# evset_signals"
      ],
      "metadata": {
        "id": "VXa-D97gwoZf"
      },
      "id": "VXa-D97gwoZf",
      "execution_count": 8,
      "outputs": []
    },
    {
      "cell_type": "code",
      "source": [
        "trend = signal.moving_standard_deviation(tp.duration.seconds(30))\n"
      ],
      "metadata": {
        "id": "vC00Gy3uwXYj"
      },
      "id": "vC00Gy3uwXYj",
      "execution_count": null,
      "outputs": []
    },
    {
      "cell_type": "code",
      "source": [],
      "metadata": {
        "id": "KhUFea1qwXVk"
      },
      "id": "KhUFea1qwXVk",
      "execution_count": null,
      "outputs": []
    },
    {
      "cell_type": "code",
      "source": [],
      "metadata": {
        "id": "ZulaTil1wXSe"
      },
      "id": "ZulaTil1wXSe",
      "execution_count": null,
      "outputs": []
    },
    {
      "cell_type": "code",
      "source": [],
      "metadata": {
        "id": "OfQV2zQmwXQ1"
      },
      "id": "OfQV2zQmwXQ1",
      "execution_count": null,
      "outputs": []
    },
    {
      "cell_type": "markdown",
      "id": "18cc96f7",
      "metadata": {
        "id": "18cc96f7"
      },
      "source": [
        "## Example Data\n",
        "\n",
        "This minimal data consists of just one `signal` with a `timestamp` for each sample.\n",
        "\n",
        "The signal is a periodic sinusoidal `season` with a slight positive slope in the long run, which we call `trend`. Plus the ubiquitous `noise`."
      ]
    },
    {
      "cell_type": "code",
      "execution_count": 16,
      "id": "bb47d14c",
      "metadata": {
        "colab": {
          "base_uri": "https://localhost:8080/",
          "height": 423
        },
        "id": "bb47d14c",
        "outputId": "602b1bfc-3c14-4bd3-fe2e-3d19412d00ae"
      },
      "outputs": [
        {
          "output_type": "execute_result",
          "data": {
            "text/plain": [
              "    timestamp     noise  trend    season    signal\n",
              "0           0  0.151640   0.00  0.000000  0.151640\n",
              "1           1  0.140497   0.01  0.336588  0.487085\n",
              "2           2  0.028480   0.02  0.363719  0.412199\n",
              "3           3 -0.032665   0.03  0.056448  0.053783\n",
              "4           4  0.102614   0.04 -0.302721 -0.160107\n",
              "..        ...       ...    ...       ...       ...\n",
              "95         95 -0.043638   0.95  0.273305  1.179666\n",
              "96         96 -0.031240   0.96  0.393435  1.322195\n",
              "97         97 -0.145513   0.97  0.151843  0.976331\n",
              "98         98 -0.087856   0.98 -0.229353  0.662791\n",
              "99         99  0.062367   0.99 -0.399683  0.652684\n",
              "\n",
              "[100 rows x 5 columns]"
            ],
            "text/html": [
              "\n",
              "  <div id=\"df-ab020c78-187e-44e0-af45-63d4aadc4b85\" class=\"colab-df-container\">\n",
              "    <div>\n",
              "<style scoped>\n",
              "    .dataframe tbody tr th:only-of-type {\n",
              "        vertical-align: middle;\n",
              "    }\n",
              "\n",
              "    .dataframe tbody tr th {\n",
              "        vertical-align: top;\n",
              "    }\n",
              "\n",
              "    .dataframe thead th {\n",
              "        text-align: right;\n",
              "    }\n",
              "</style>\n",
              "<table border=\"1\" class=\"dataframe\">\n",
              "  <thead>\n",
              "    <tr style=\"text-align: right;\">\n",
              "      <th></th>\n",
              "      <th>timestamp</th>\n",
              "      <th>noise</th>\n",
              "      <th>trend</th>\n",
              "      <th>season</th>\n",
              "      <th>signal</th>\n",
              "    </tr>\n",
              "  </thead>\n",
              "  <tbody>\n",
              "    <tr>\n",
              "      <th>0</th>\n",
              "      <td>0</td>\n",
              "      <td>0.151640</td>\n",
              "      <td>0.00</td>\n",
              "      <td>0.000000</td>\n",
              "      <td>0.151640</td>\n",
              "    </tr>\n",
              "    <tr>\n",
              "      <th>1</th>\n",
              "      <td>1</td>\n",
              "      <td>0.140497</td>\n",
              "      <td>0.01</td>\n",
              "      <td>0.336588</td>\n",
              "      <td>0.487085</td>\n",
              "    </tr>\n",
              "    <tr>\n",
              "      <th>2</th>\n",
              "      <td>2</td>\n",
              "      <td>0.028480</td>\n",
              "      <td>0.02</td>\n",
              "      <td>0.363719</td>\n",
              "      <td>0.412199</td>\n",
              "    </tr>\n",
              "    <tr>\n",
              "      <th>3</th>\n",
              "      <td>3</td>\n",
              "      <td>-0.032665</td>\n",
              "      <td>0.03</td>\n",
              "      <td>0.056448</td>\n",
              "      <td>0.053783</td>\n",
              "    </tr>\n",
              "    <tr>\n",
              "      <th>4</th>\n",
              "      <td>4</td>\n",
              "      <td>0.102614</td>\n",
              "      <td>0.04</td>\n",
              "      <td>-0.302721</td>\n",
              "      <td>-0.160107</td>\n",
              "    </tr>\n",
              "    <tr>\n",
              "      <th>...</th>\n",
              "      <td>...</td>\n",
              "      <td>...</td>\n",
              "      <td>...</td>\n",
              "      <td>...</td>\n",
              "      <td>...</td>\n",
              "    </tr>\n",
              "    <tr>\n",
              "      <th>95</th>\n",
              "      <td>95</td>\n",
              "      <td>-0.043638</td>\n",
              "      <td>0.95</td>\n",
              "      <td>0.273305</td>\n",
              "      <td>1.179666</td>\n",
              "    </tr>\n",
              "    <tr>\n",
              "      <th>96</th>\n",
              "      <td>96</td>\n",
              "      <td>-0.031240</td>\n",
              "      <td>0.96</td>\n",
              "      <td>0.393435</td>\n",
              "      <td>1.322195</td>\n",
              "    </tr>\n",
              "    <tr>\n",
              "      <th>97</th>\n",
              "      <td>97</td>\n",
              "      <td>-0.145513</td>\n",
              "      <td>0.97</td>\n",
              "      <td>0.151843</td>\n",
              "      <td>0.976331</td>\n",
              "    </tr>\n",
              "    <tr>\n",
              "      <th>98</th>\n",
              "      <td>98</td>\n",
              "      <td>-0.087856</td>\n",
              "      <td>0.98</td>\n",
              "      <td>-0.229353</td>\n",
              "      <td>0.662791</td>\n",
              "    </tr>\n",
              "    <tr>\n",
              "      <th>99</th>\n",
              "      <td>99</td>\n",
              "      <td>0.062367</td>\n",
              "      <td>0.99</td>\n",
              "      <td>-0.399683</td>\n",
              "      <td>0.652684</td>\n",
              "    </tr>\n",
              "  </tbody>\n",
              "</table>\n",
              "<p>100 rows × 5 columns</p>\n",
              "</div>\n",
              "    <div class=\"colab-df-buttons\">\n",
              "\n",
              "  <div class=\"colab-df-container\">\n",
              "    <button class=\"colab-df-convert\" onclick=\"convertToInteractive('df-ab020c78-187e-44e0-af45-63d4aadc4b85')\"\n",
              "            title=\"Convert this dataframe to an interactive table.\"\n",
              "            style=\"display:none;\">\n",
              "\n",
              "  <svg xmlns=\"http://www.w3.org/2000/svg\" height=\"24px\" viewBox=\"0 -960 960 960\">\n",
              "    <path d=\"M120-120v-720h720v720H120Zm60-500h600v-160H180v160Zm220 220h160v-160H400v160Zm0 220h160v-160H400v160ZM180-400h160v-160H180v160Zm440 0h160v-160H620v160ZM180-180h160v-160H180v160Zm440 0h160v-160H620v160Z\"/>\n",
              "  </svg>\n",
              "    </button>\n",
              "\n",
              "  <style>\n",
              "    .colab-df-container {\n",
              "      display:flex;\n",
              "      gap: 12px;\n",
              "    }\n",
              "\n",
              "    .colab-df-convert {\n",
              "      background-color: #E8F0FE;\n",
              "      border: none;\n",
              "      border-radius: 50%;\n",
              "      cursor: pointer;\n",
              "      display: none;\n",
              "      fill: #1967D2;\n",
              "      height: 32px;\n",
              "      padding: 0 0 0 0;\n",
              "      width: 32px;\n",
              "    }\n",
              "\n",
              "    .colab-df-convert:hover {\n",
              "      background-color: #E2EBFA;\n",
              "      box-shadow: 0px 1px 2px rgba(60, 64, 67, 0.3), 0px 1px 3px 1px rgba(60, 64, 67, 0.15);\n",
              "      fill: #174EA6;\n",
              "    }\n",
              "\n",
              "    .colab-df-buttons div {\n",
              "      margin-bottom: 4px;\n",
              "    }\n",
              "\n",
              "    [theme=dark] .colab-df-convert {\n",
              "      background-color: #3B4455;\n",
              "      fill: #D2E3FC;\n",
              "    }\n",
              "\n",
              "    [theme=dark] .colab-df-convert:hover {\n",
              "      background-color: #434B5C;\n",
              "      box-shadow: 0px 1px 3px 1px rgba(0, 0, 0, 0.15);\n",
              "      filter: drop-shadow(0px 1px 2px rgba(0, 0, 0, 0.3));\n",
              "      fill: #FFFFFF;\n",
              "    }\n",
              "  </style>\n",
              "\n",
              "    <script>\n",
              "      const buttonEl =\n",
              "        document.querySelector('#df-ab020c78-187e-44e0-af45-63d4aadc4b85 button.colab-df-convert');\n",
              "      buttonEl.style.display =\n",
              "        google.colab.kernel.accessAllowed ? 'block' : 'none';\n",
              "\n",
              "      async function convertToInteractive(key) {\n",
              "        const element = document.querySelector('#df-ab020c78-187e-44e0-af45-63d4aadc4b85');\n",
              "        const dataTable =\n",
              "          await google.colab.kernel.invokeFunction('convertToInteractive',\n",
              "                                                    [key], {});\n",
              "        if (!dataTable) return;\n",
              "\n",
              "        const docLinkHtml = 'Like what you see? Visit the ' +\n",
              "          '<a target=\"_blank\" href=https://colab.research.google.com/notebooks/data_table.ipynb>data table notebook</a>'\n",
              "          + ' to learn more about interactive tables.';\n",
              "        element.innerHTML = '';\n",
              "        dataTable['output_type'] = 'display_data';\n",
              "        await google.colab.output.renderOutput(dataTable, element);\n",
              "        const docLink = document.createElement('div');\n",
              "        docLink.innerHTML = docLinkHtml;\n",
              "        element.appendChild(docLink);\n",
              "      }\n",
              "    </script>\n",
              "  </div>\n",
              "\n",
              "\n",
              "<div id=\"df-227e8f75-d99d-4b94-b652-d040ebe51916\">\n",
              "  <button class=\"colab-df-quickchart\" onclick=\"quickchart('df-227e8f75-d99d-4b94-b652-d040ebe51916')\"\n",
              "            title=\"Suggest charts.\"\n",
              "            style=\"display:none;\">\n",
              "\n",
              "<svg xmlns=\"http://www.w3.org/2000/svg\" height=\"24px\"viewBox=\"0 0 24 24\"\n",
              "     width=\"24px\">\n",
              "    <g>\n",
              "        <path d=\"M19 3H5c-1.1 0-2 .9-2 2v14c0 1.1.9 2 2 2h14c1.1 0 2-.9 2-2V5c0-1.1-.9-2-2-2zM9 17H7v-7h2v7zm4 0h-2V7h2v10zm4 0h-2v-4h2v4z\"/>\n",
              "    </g>\n",
              "</svg>\n",
              "  </button>\n",
              "\n",
              "<style>\n",
              "  .colab-df-quickchart {\n",
              "      --bg-color: #E8F0FE;\n",
              "      --fill-color: #1967D2;\n",
              "      --hover-bg-color: #E2EBFA;\n",
              "      --hover-fill-color: #174EA6;\n",
              "      --disabled-fill-color: #AAA;\n",
              "      --disabled-bg-color: #DDD;\n",
              "  }\n",
              "\n",
              "  [theme=dark] .colab-df-quickchart {\n",
              "      --bg-color: #3B4455;\n",
              "      --fill-color: #D2E3FC;\n",
              "      --hover-bg-color: #434B5C;\n",
              "      --hover-fill-color: #FFFFFF;\n",
              "      --disabled-bg-color: #3B4455;\n",
              "      --disabled-fill-color: #666;\n",
              "  }\n",
              "\n",
              "  .colab-df-quickchart {\n",
              "    background-color: var(--bg-color);\n",
              "    border: none;\n",
              "    border-radius: 50%;\n",
              "    cursor: pointer;\n",
              "    display: none;\n",
              "    fill: var(--fill-color);\n",
              "    height: 32px;\n",
              "    padding: 0;\n",
              "    width: 32px;\n",
              "  }\n",
              "\n",
              "  .colab-df-quickchart:hover {\n",
              "    background-color: var(--hover-bg-color);\n",
              "    box-shadow: 0 1px 2px rgba(60, 64, 67, 0.3), 0 1px 3px 1px rgba(60, 64, 67, 0.15);\n",
              "    fill: var(--button-hover-fill-color);\n",
              "  }\n",
              "\n",
              "  .colab-df-quickchart-complete:disabled,\n",
              "  .colab-df-quickchart-complete:disabled:hover {\n",
              "    background-color: var(--disabled-bg-color);\n",
              "    fill: var(--disabled-fill-color);\n",
              "    box-shadow: none;\n",
              "  }\n",
              "\n",
              "  .colab-df-spinner {\n",
              "    border: 2px solid var(--fill-color);\n",
              "    border-color: transparent;\n",
              "    border-bottom-color: var(--fill-color);\n",
              "    animation:\n",
              "      spin 1s steps(1) infinite;\n",
              "  }\n",
              "\n",
              "  @keyframes spin {\n",
              "    0% {\n",
              "      border-color: transparent;\n",
              "      border-bottom-color: var(--fill-color);\n",
              "      border-left-color: var(--fill-color);\n",
              "    }\n",
              "    20% {\n",
              "      border-color: transparent;\n",
              "      border-left-color: var(--fill-color);\n",
              "      border-top-color: var(--fill-color);\n",
              "    }\n",
              "    30% {\n",
              "      border-color: transparent;\n",
              "      border-left-color: var(--fill-color);\n",
              "      border-top-color: var(--fill-color);\n",
              "      border-right-color: var(--fill-color);\n",
              "    }\n",
              "    40% {\n",
              "      border-color: transparent;\n",
              "      border-right-color: var(--fill-color);\n",
              "      border-top-color: var(--fill-color);\n",
              "    }\n",
              "    60% {\n",
              "      border-color: transparent;\n",
              "      border-right-color: var(--fill-color);\n",
              "    }\n",
              "    80% {\n",
              "      border-color: transparent;\n",
              "      border-right-color: var(--fill-color);\n",
              "      border-bottom-color: var(--fill-color);\n",
              "    }\n",
              "    90% {\n",
              "      border-color: transparent;\n",
              "      border-bottom-color: var(--fill-color);\n",
              "    }\n",
              "  }\n",
              "</style>\n",
              "\n",
              "  <script>\n",
              "    async function quickchart(key) {\n",
              "      const quickchartButtonEl =\n",
              "        document.querySelector('#' + key + ' button');\n",
              "      quickchartButtonEl.disabled = true;  // To prevent multiple clicks.\n",
              "      quickchartButtonEl.classList.add('colab-df-spinner');\n",
              "      try {\n",
              "        const charts = await google.colab.kernel.invokeFunction(\n",
              "            'suggestCharts', [key], {});\n",
              "      } catch (error) {\n",
              "        console.error('Error during call to suggestCharts:', error);\n",
              "      }\n",
              "      quickchartButtonEl.classList.remove('colab-df-spinner');\n",
              "      quickchartButtonEl.classList.add('colab-df-quickchart-complete');\n",
              "    }\n",
              "    (() => {\n",
              "      let quickchartButtonEl =\n",
              "        document.querySelector('#df-227e8f75-d99d-4b94-b652-d040ebe51916 button');\n",
              "      quickchartButtonEl.style.display =\n",
              "        google.colab.kernel.accessAllowed ? 'block' : 'none';\n",
              "    })();\n",
              "  </script>\n",
              "</div>\n",
              "    </div>\n",
              "  </div>\n"
            ]
          },
          "metadata": {},
          "execution_count": 16
        }
      ],
      "source": [
        "# Generate a synthetic dataset\n",
        "timestamps = np.arange(0, 100, 1)\n",
        "n = len(timestamps)\n",
        "noise = 0.1 * np.random.randn(n)\n",
        "trend = 0.01 * timestamps\n",
        "season = 0.4 * np.sin(timestamps)\n",
        "\n",
        "# Convention: 'df_' for DataFrame\n",
        "df_signals = pd.DataFrame(\n",
        "    {\n",
        "        \"timestamp\": timestamps,\n",
        "        \"noise\": noise,\n",
        "        \"trend\": trend,\n",
        "        \"season\": season,\n",
        "        \"signal\": noise + trend + season,\n",
        "    }\n",
        ")\n",
        "\n",
        "df_signals"
      ]
    },
    {
      "cell_type": "markdown",
      "id": "3f156949",
      "metadata": {
        "id": "3f156949"
      },
      "source": [
        "## Part 1: Loading Data\n",
        "\n",
        "Any kind of signal is represented in Temporian as a **collection of events**, using the `EventSet` object.\n",
        "\n",
        "In this case there's no `indexes` because we only have one sequence.\n",
        "\n",
        "Indices could be useful if we had multiple signals in parallel.\n",
        "For example, imagine that we needed to work with signals from multiple sensor devices, or represent the sales from many stores or products: we could separate them by setting the correct features as indexes for each one."
      ]
    },
    {
      "cell_type": "code",
      "execution_count": 17,
      "id": "b4a2782d",
      "metadata": {
        "colab": {
          "base_uri": "https://localhost:8080/",
          "height": 285
        },
        "id": "b4a2782d",
        "outputId": "aed4f320-7725-4a2a-d6ac-1d2fde055c39"
      },
      "outputs": [
        {
          "output_type": "execute_result",
          "data": {
            "text/plain": [
              "indexes: []\n",
              "features: [('noise', float64), ('trend', float64), ('season', float64), ('signal', float64)]\n",
              "events:\n",
              "     (100 events):\n",
              "        timestamps: [ 0.  1.  2. ... 97. 98. 99.]\n",
              "        'noise': [ 0.1516  0.1405  0.0285 ... -0.1455 -0.0879  0.0624]\n",
              "        'trend': [0.   0.01 0.02 ... 0.97 0.98 0.99]\n",
              "        'season': [ 0.      0.3366  0.3637 ...  0.1518 -0.2294 -0.3997]\n",
              "        'signal': [0.1516 0.4871 0.4122 ... 0.9763 0.6628 0.6527]\n",
              "memory usage: 4.8 kB"
            ],
            "text/html": [
              "<div>\n",
              "  <div style=\"display: table; margin-bottom:11px; padding:5px; font-size:small; line-height:120%; border:1px solid rgba(127, 127, 127, 0.2)\">\n",
              "    <div style=\"display: table\">\n",
              "      <span>\n",
              "        <span style=\"font-weight:bold\">features</span>\n",
              "        <span style=\"\"> [4]:</span>\n",
              "      </span>\n",
              "      <span style=\"color:#0077BB; font-weight:bold\">noise</span>\n",
              "      <span style=\"color:#009988\"> (float64)</span>\n",
              "      <span style=\"\">, </span>\n",
              "      <span style=\"color:#0077BB; font-weight:bold\">trend</span>\n",
              "      <span style=\"color:#009988\"> (float64)</span>\n",
              "      <span style=\"\">, </span>\n",
              "      <span style=\"color:#0077BB; font-weight:bold\">season</span>\n",
              "      <span style=\"color:#009988\"> (float64)</span>\n",
              "      <span style=\"\">, </span>\n",
              "      <span style=\"color:#0077BB; font-weight:bold\">signal</span>\n",
              "      <span style=\"color:#009988\"> (float64)</span>\n",
              "    </div>\n",
              "    <div style=\"display: table\">\n",
              "      <span>\n",
              "        <span style=\"font-weight:bold\">indexes</span>\n",
              "        <span style=\"\"> [0]:</span>\n",
              "      </span>\n",
              "      <span style=\"font-style:italic\">none</span>\n",
              "    </div>\n",
              "    <div style=\"display: table\">\n",
              "      <span style=\"font-weight:bold\">events: </span>\n",
              "      <span style=\"\">100</span>\n",
              "    </div>\n",
              "    <div style=\"display: table\">\n",
              "      <span style=\"font-weight:bold\">index values: </span>\n",
              "      <span style=\"\">1</span>\n",
              "    </div>\n",
              "    <div style=\"display: table\">\n",
              "      <span style=\"font-weight:bold\">memory usage: </span>\n",
              "      <span style=\"\">4.8 kB</span>\n",
              "    </div>\n",
              "  </div>\n",
              "  <div style=\"display: table\">\n",
              "    <span style=\"font-weight:bold\">index</span>\n",
              "    <span style=\"\"> (</span>\n",
              "    <span style=\"\">) with 100 events</span>\n",
              "  </div>\n",
              "  <table style=\"margin-left:20px; border:1px solid rgba(127, 127, 127, 0.2)\">\n",
              "    <tr>\n",
              "      <th>\n",
              "        <b>\n",
              "          <span style=\"\">timestamp</span>\n",
              "        </b>\n",
              "      </th>\n",
              "      <th>\n",
              "        <b>\n",
              "          <span style=\"color:#0077BB; font-weight:bold; \">noise</span>\n",
              "        </b>\n",
              "      </th>\n",
              "      <th>\n",
              "        <b>\n",
              "          <span style=\"color:#0077BB; font-weight:bold; \">trend</span>\n",
              "        </b>\n",
              "      </th>\n",
              "      <th>\n",
              "        <b>\n",
              "          <span style=\"color:#0077BB; font-weight:bold; \">season</span>\n",
              "        </b>\n",
              "      </th>\n",
              "      <th>\n",
              "        <b>\n",
              "          <span style=\"color:#0077BB; font-weight:bold; \">signal</span>\n",
              "        </b>\n",
              "      </th>\n",
              "    </tr>\n",
              "    <tr>\n",
              "      <td>\n",
              "        <span style=\"\">0</span>\n",
              "      </td>\n",
              "      <td>\n",
              "        <span style=\"\">0.1516</span>\n",
              "      </td>\n",
              "      <td>\n",
              "        <span style=\"\">0</span>\n",
              "      </td>\n",
              "      <td>\n",
              "        <span style=\"\">0</span>\n",
              "      </td>\n",
              "      <td>\n",
              "        <span style=\"\">0.1516</span>\n",
              "      </td>\n",
              "    </tr>\n",
              "    <tr>\n",
              "      <td>\n",
              "        <span style=\"\">1</span>\n",
              "      </td>\n",
              "      <td>\n",
              "        <span style=\"\">0.1405</span>\n",
              "      </td>\n",
              "      <td>\n",
              "        <span style=\"\">0.01</span>\n",
              "      </td>\n",
              "      <td>\n",
              "        <span style=\"\">0.3366</span>\n",
              "      </td>\n",
              "      <td>\n",
              "        <span style=\"\">0.4871</span>\n",
              "      </td>\n",
              "    </tr>\n",
              "    <tr>\n",
              "      <td>\n",
              "        <span style=\"\">2</span>\n",
              "      </td>\n",
              "      <td>\n",
              "        <span style=\"\">0.02848</span>\n",
              "      </td>\n",
              "      <td>\n",
              "        <span style=\"\">0.02</span>\n",
              "      </td>\n",
              "      <td>\n",
              "        <span style=\"\">0.3637</span>\n",
              "      </td>\n",
              "      <td>\n",
              "        <span style=\"\">0.4122</span>\n",
              "      </td>\n",
              "    </tr>\n",
              "    <tr>\n",
              "      <td>\n",
              "        <span style=\"\">3</span>\n",
              "      </td>\n",
              "      <td>\n",
              "        <span style=\"\">-0.03266</span>\n",
              "      </td>\n",
              "      <td>\n",
              "        <span style=\"\">0.03</span>\n",
              "      </td>\n",
              "      <td>\n",
              "        <span style=\"\">0.05645</span>\n",
              "      </td>\n",
              "      <td>\n",
              "        <span style=\"\">0.05378</span>\n",
              "      </td>\n",
              "    </tr>\n",
              "    <tr>\n",
              "      <td>\n",
              "        <span style=\"\">4</span>\n",
              "      </td>\n",
              "      <td>\n",
              "        <span style=\"\">0.1026</span>\n",
              "      </td>\n",
              "      <td>\n",
              "        <span style=\"\">0.04</span>\n",
              "      </td>\n",
              "      <td>\n",
              "        <span style=\"\">-0.3027</span>\n",
              "      </td>\n",
              "      <td>\n",
              "        <span style=\"\">-0.1601</span>\n",
              "      </td>\n",
              "    </tr>\n",
              "    <tr>\n",
              "      <td>\n",
              "        <span style=\"\">…</span>\n",
              "      </td>\n",
              "      <td>\n",
              "        <span style=\"\">…</span>\n",
              "      </td>\n",
              "      <td>\n",
              "        <span style=\"\">…</span>\n",
              "      </td>\n",
              "      <td>\n",
              "        <span style=\"\">…</span>\n",
              "      </td>\n",
              "      <td>\n",
              "        <span style=\"\">…</span>\n",
              "      </td>\n",
              "    </tr>\n",
              "  </table>\n",
              "</div>\n"
            ]
          },
          "metadata": {},
          "execution_count": 17
        }
      ],
      "source": [
        "# Convert the DataFrame into a Temporian EventSet\n",
        "evset_signals = tp.from_pandas(df_signals)\n",
        "\n",
        "evset_signals"
      ]
    },
    {
      "cell_type": "code",
      "execution_count": null,
      "id": "e0494b95",
      "metadata": {
        "id": "e0494b95"
      },
      "outputs": [],
      "source": [
        "# Plot the dataset\n",
        "_ = evset_signals.plot()"
      ]
    },
    {
      "cell_type": "markdown",
      "id": "c0907814",
      "metadata": {
        "id": "c0907814"
      },
      "source": [
        "**Note:** If you're wondering why the plot has an empty `()` in the title, it's because we have no `indexes`, as mentioned above."
      ]
    },
    {
      "cell_type": "markdown",
      "id": "16d03112",
      "metadata": {
        "id": "16d03112"
      },
      "source": [
        "## Part 2: Using Operators\n",
        "\n",
        "Now, let's actually transform our data with a couple operations.\n",
        "\n",
        "To extract only the long-term trend, the sine and noise signals are first removed using a moving average over a large moving window (they have zero mean)."
      ]
    },
    {
      "cell_type": "code",
      "source": [
        "# Pick only one feature\n",
        "signal = evset_signals[\"signal\"]\n",
        "\n",
        "# Moving avg\n",
        "trend = signal.simple_moving_average(tp.duration.seconds(30))\n",
        "trend.plot()"
      ],
      "metadata": {
        "colab": {
          "base_uri": "https://localhost:8080/",
          "height": 157
        },
        "id": "WXQrh8Eeyt43",
        "outputId": "2fdeb6e4-b433-49de-8a8f-82cb2fc85044"
      },
      "id": "WXQrh8Eeyt43",
      "execution_count": 11,
      "outputs": [
        {
          "output_type": "display_data",
          "data": {
            "text/plain": [
              "<Figure size 1024x150 with 1 Axes>"
            ],
            "image/png": "[encoded data removed]"
          },
          "metadata": {}
        }
      ]
    },
    {
      "cell_type": "code",
      "source": [
        "signal = evset_signals[\"signal\"]\n",
        "signal"
      ],
      "metadata": {
        "colab": {
          "base_uri": "https://localhost:8080/",
          "height": 285
        },
        "id": "FLt9KwON3KCg",
        "outputId": "02898293-fe18-4c04-afa9-68dfd2dea154"
      },
      "id": "FLt9KwON3KCg",
      "execution_count": 32,
      "outputs": [
        {
          "output_type": "execute_result",
          "data": {
            "text/plain": [
              "indexes: []\n",
              "features: [('signal', float64)]\n",
              "events:\n",
              "     (100 events):\n",
              "        timestamps: [ 0.  1.  2. ... 97. 98. 99.]\n",
              "        'signal': [0.1516 0.4871 0.4122 ... 0.9763 0.6628 0.6527]\n",
              "memory usage: 2.1 kB"
            ],
            "text/html": [
              "<div>\n",
              "  <div style=\"display: table; margin-bottom:11px; padding:5px; font-size:small; line-height:120%; border:1px solid rgba(127, 127, 127, 0.2)\">\n",
              "    <div style=\"display: table\">\n",
              "      <span>\n",
              "        <span style=\"font-weight:bold\">features</span>\n",
              "        <span style=\"\"> [1]:</span>\n",
              "      </span>\n",
              "      <span style=\"color:#0077BB; font-weight:bold\">signal</span>\n",
              "      <span style=\"color:#009988\"> (float64)</span>\n",
              "    </div>\n",
              "    <div style=\"display: table\">\n",
              "      <span>\n",
              "        <span style=\"font-weight:bold\">indexes</span>\n",
              "        <span style=\"\"> [0]:</span>\n",
              "      </span>\n",
              "      <span style=\"font-style:italic\">none</span>\n",
              "    </div>\n",
              "    <div style=\"display: table\">\n",
              "      <span style=\"font-weight:bold\">events: </span>\n",
              "      <span style=\"\">100</span>\n",
              "    </div>\n",
              "    <div style=\"display: table\">\n",
              "      <span style=\"font-weight:bold\">index values: </span>\n",
              "      <span style=\"\">1</span>\n",
              "    </div>\n",
              "    <div style=\"display: table\">\n",
              "      <span style=\"font-weight:bold\">memory usage: </span>\n",
              "      <span style=\"\">2.1 kB</span>\n",
              "    </div>\n",
              "  </div>\n",
              "  <div style=\"display: table\">\n",
              "    <span style=\"font-weight:bold\">index</span>\n",
              "    <span style=\"\"> (</span>\n",
              "    <span style=\"\">) with 100 events</span>\n",
              "  </div>\n",
              "  <table style=\"margin-left:20px; border:1px solid rgba(127, 127, 127, 0.2)\">\n",
              "    <tr>\n",
              "      <th>\n",
              "        <b>\n",
              "          <span style=\"\">timestamp</span>\n",
              "        </b>\n",
              "      </th>\n",
              "      <th>\n",
              "        <b>\n",
              "          <span style=\"color:#0077BB; font-weight:bold; \">signal</span>\n",
              "        </b>\n",
              "      </th>\n",
              "    </tr>\n",
              "    <tr>\n",
              "      <td>\n",
              "        <span style=\"\">0</span>\n",
              "      </td>\n",
              "      <td>\n",
              "        <span style=\"\">0.1516</span>\n",
              "      </td>\n",
              "    </tr>\n",
              "    <tr>\n",
              "      <td>\n",
              "        <span style=\"\">1</span>\n",
              "      </td>\n",
              "      <td>\n",
              "        <span style=\"\">0.4871</span>\n",
              "      </td>\n",
              "    </tr>\n",
              "    <tr>\n",
              "      <td>\n",
              "        <span style=\"\">2</span>\n",
              "      </td>\n",
              "      <td>\n",
              "        <span style=\"\">0.4122</span>\n",
              "      </td>\n",
              "    </tr>\n",
              "    <tr>\n",
              "      <td>\n",
              "        <span style=\"\">3</span>\n",
              "      </td>\n",
              "      <td>\n",
              "        <span style=\"\">0.05378</span>\n",
              "      </td>\n",
              "    </tr>\n",
              "    <tr>\n",
              "      <td>\n",
              "        <span style=\"\">4</span>\n",
              "      </td>\n",
              "      <td>\n",
              "        <span style=\"\">-0.1601</span>\n",
              "      </td>\n",
              "    </tr>\n",
              "    <tr>\n",
              "      <td>\n",
              "        <span style=\"\">…</span>\n",
              "      </td>\n",
              "      <td>\n",
              "        <span style=\"\">…</span>\n",
              "      </td>\n",
              "    </tr>\n",
              "  </table>\n",
              "</div>\n"
            ]
          },
          "metadata": {},
          "execution_count": 32
        }
      ]
    },
    {
      "cell_type": "code",
      "source": [
        "trend = signal.moving_standard_deviation(window_size)\n"
      ],
      "metadata": {
        "id": "69v6WDk4y__m"
      },
      "id": "69v6WDk4y__m",
      "execution_count": 33,
      "outputs": []
    },
    {
      "cell_type": "code",
      "source": [
        "trend\n"
      ],
      "metadata": {
        "colab": {
          "base_uri": "https://localhost:8080/",
          "height": 285
        },
        "id": "S7_miXJKzIf8",
        "outputId": "4fee47a5-33c8-4037-f5d6-728278dc6e62"
      },
      "id": "S7_miXJKzIf8",
      "execution_count": 34,
      "outputs": [
        {
          "output_type": "execute_result",
          "data": {
            "text/plain": [
              "indexes: []\n",
              "features: [('signal', float64)]\n",
              "events:\n",
              "     (100 events):\n",
              "        timestamps: [ 0.  1.  2. ... 97. 98. 99.]\n",
              "        'signal': [0.     0.1677 0.1438 ... 0.1419 0.2693 0.1502]\n",
              "memory usage: 2.1 kB"
            ],
            "text/html": [
              "<div>\n",
              "  <div style=\"display: table; margin-bottom:11px; padding:5px; font-size:small; line-height:120%; border:1px solid rgba(127, 127, 127, 0.2)\">\n",
              "    <div style=\"display: table\">\n",
              "      <span>\n",
              "        <span style=\"font-weight:bold\">features</span>\n",
              "        <span style=\"\"> [1]:</span>\n",
              "      </span>\n",
              "      <span style=\"color:#0077BB; font-weight:bold\">signal</span>\n",
              "      <span style=\"color:#009988\"> (float64)</span>\n",
              "    </div>\n",
              "    <div style=\"display: table\">\n",
              "      <span>\n",
              "        <span style=\"font-weight:bold\">indexes</span>\n",
              "        <span style=\"\"> [0]:</span>\n",
              "      </span>\n",
              "      <span style=\"font-style:italic\">none</span>\n",
              "    </div>\n",
              "    <div style=\"display: table\">\n",
              "      <span style=\"font-weight:bold\">events: </span>\n",
              "      <span style=\"\">100</span>\n",
              "    </div>\n",
              "    <div style=\"display: table\">\n",
              "      <span style=\"font-weight:bold\">index values: </span>\n",
              "      <span style=\"\">1</span>\n",
              "    </div>\n",
              "    <div style=\"display: table\">\n",
              "      <span style=\"font-weight:bold\">memory usage: </span>\n",
              "      <span style=\"\">2.1 kB</span>\n",
              "    </div>\n",
              "  </div>\n",
              "  <div style=\"display: table\">\n",
              "    <span style=\"font-weight:bold\">index</span>\n",
              "    <span style=\"\"> (</span>\n",
              "    <span style=\"\">) with 100 events</span>\n",
              "  </div>\n",
              "  <table style=\"margin-left:20px; border:1px solid rgba(127, 127, 127, 0.2)\">\n",
              "    <tr>\n",
              "      <th>\n",
              "        <b>\n",
              "          <span style=\"\">timestamp</span>\n",
              "        </b>\n",
              "      </th>\n",
              "      <th>\n",
              "        <b>\n",
              "          <span style=\"color:#0077BB; font-weight:bold; \">signal</span>\n",
              "        </b>\n",
              "      </th>\n",
              "    </tr>\n",
              "    <tr>\n",
              "      <td>\n",
              "        <span style=\"\">0</span>\n",
              "      </td>\n",
              "      <td>\n",
              "        <span style=\"\">0</span>\n",
              "      </td>\n",
              "    </tr>\n",
              "    <tr>\n",
              "      <td>\n",
              "        <span style=\"\">1</span>\n",
              "      </td>\n",
              "      <td>\n",
              "        <span style=\"\">0.1677</span>\n",
              "      </td>\n",
              "    </tr>\n",
              "    <tr>\n",
              "      <td>\n",
              "        <span style=\"\">2</span>\n",
              "      </td>\n",
              "      <td>\n",
              "        <span style=\"\">0.1438</span>\n",
              "      </td>\n",
              "    </tr>\n",
              "    <tr>\n",
              "      <td>\n",
              "        <span style=\"\">3</span>\n",
              "      </td>\n",
              "      <td>\n",
              "        <span style=\"\">0.1891</span>\n",
              "      </td>\n",
              "    </tr>\n",
              "    <tr>\n",
              "      <td>\n",
              "        <span style=\"\">4</span>\n",
              "      </td>\n",
              "      <td>\n",
              "        <span style=\"\">0.2361</span>\n",
              "      </td>\n",
              "    </tr>\n",
              "    <tr>\n",
              "      <td>\n",
              "        <span style=\"\">…</span>\n",
              "      </td>\n",
              "      <td>\n",
              "        <span style=\"\">…</span>\n",
              "      </td>\n",
              "    </tr>\n",
              "  </table>\n",
              "</div>\n"
            ]
          },
          "metadata": {},
          "execution_count": 34
        }
      ]
    },
    {
      "cell_type": "code",
      "source": [
        "rolling_sample_sd = rolling_std(df_signals[\"signal\"], window_size, std_type='sample')\n",
        "rolling_population_sd = rolling_std(df_signals[\"signal\"], window_size, std_type='population')"
      ],
      "metadata": {
        "id": "y8IF-T0UxXPm"
      },
      "id": "y8IF-T0UxXPm",
      "execution_count": 14,
      "outputs": []
    },
    {
      "cell_type": "code",
      "source": [
        "rolling_sample_sd"
      ],
      "metadata": {
        "colab": {
          "base_uri": "https://localhost:8080/"
        },
        "id": "aQVQaS9H33g4",
        "outputId": "d1d0c5be-0dc6-43f2-fd85-0a4842ec047c"
      },
      "id": "aQVQaS9H33g4",
      "execution_count": 35,
      "outputs": [
        {
          "output_type": "execute_result",
          "data": {
            "text/plain": [
              "0           NaN\n",
              "1           NaN\n",
              "2      0.021796\n",
              "3      0.051562\n",
              "4      0.058991\n",
              "         ...   \n",
              "995    0.109772\n",
              "996    0.074240\n",
              "997    0.061682\n",
              "998    0.029265\n",
              "999    0.141532\n",
              "Name: signal, Length: 1000, dtype: float64"
            ]
          },
          "metadata": {},
          "execution_count": 35
        }
      ]
    },
    {
      "cell_type": "code",
      "source": [
        "rolling_population_sd"
      ],
      "metadata": {
        "colab": {
          "base_uri": "https://localhost:8080/"
        },
        "id": "3a4V6rcDzMKX",
        "outputId": "117323a5-c1f3-4f2e-f2a5-1ffd671118ca"
      },
      "id": "3a4V6rcDzMKX",
      "execution_count": 15,
      "outputs": [
        {
          "output_type": "execute_result",
          "data": {
            "text/plain": [
              "0           NaN\n",
              "1           NaN\n",
              "2      0.017796\n",
              "3      0.042100\n",
              "4      0.048166\n",
              "         ...   \n",
              "995    0.089629\n",
              "996    0.060616\n",
              "997    0.050363\n",
              "998    0.023895\n",
              "999    0.115560\n",
              "Name: signal, Length: 1000, dtype: float64"
            ]
          },
          "metadata": {},
          "execution_count": 15
        }
      ]
    },
    {
      "cell_type": "code",
      "source": [
        "import numpy as np\n",
        "\n",
        "def rolling_standard_deviation(data, window_size):\n",
        "    # Calculate the rolling sum and rolling sum of squares using a window\n",
        "    rolling_sum = np.cumsum(data)\n",
        "    rolling_sum2 = np.cumsum(data**2)\n",
        "\n",
        "    # Adjust the sums to account for the window size\n",
        "    rolling_sum = rolling_sum[window_size:] - np.insert(rolling_sum[:-window_size], 0, 0)\n",
        "    rolling_sum2 = rolling_sum2[window_size:] - np.insert(rolling_sum2[:-window_size], 0, 0)\n",
        "\n",
        "    # Use the formula to compute the rolling standard deviation\n",
        "    mean = rolling_sum / window_size\n",
        "    return np.sqrt((rolling_sum2 / window_size) - mean**2)\n"
      ],
      "metadata": {
        "id": "t1QMq3xh1v37"
      },
      "id": "t1QMq3xh1v37",
      "execution_count": 23,
      "outputs": []
    },
    {
      "cell_type": "code",
      "source": [
        "import numpy as np\n",
        "\n",
        "def rolling_standard_deviation(data, window_size):\n",
        "    # Convert data to numpy array for processing\n",
        "    data = np.array(data)\n",
        "\n",
        "    # Calculate the rolling sum and rolling sum of squares using a window\n",
        "    rolling_sum = np.cumsum(data)\n",
        "    rolling_sum2 = np.cumsum(data**2)\n",
        "\n",
        "    # Adjust the sums to account for the window size\n",
        "    rolling_sum = rolling_sum[window_size:] - np.insert(rolling_sum[:-window_size], 0, 0)\n",
        "    rolling_sum2 = rolling_sum2[window_size:] - np.insert(rolling_sum2[:-window_size], 0, 0)\n",
        "\n",
        "    # Use the formula to compute the rolling standard deviation\n",
        "    mean = rolling_sum / window_size\n",
        "    return np.sqrt((rolling_sum2 / window_size) - mean**2)\n"
      ],
      "metadata": {
        "id": "uKY9GhMs1_aL"
      },
      "id": "uKY9GhMs1_aL",
      "execution_count": 38,
      "outputs": []
    },
    {
      "cell_type": "code",
      "source": [
        "import numpy as np\n",
        "\n",
        "def rolling_standard_deviation(data, window_size):\n",
        "    # Convert data to numpy array for processing\n",
        "    data = np.array(data)\n",
        "\n",
        "    # Calculate the rolling sum and rolling sum of squares using a window\n",
        "    rolling_sum = np.cumsum(data)\n",
        "    rolling_sum2 = np.cumsum(data**2)\n",
        "\n",
        "    # Adjust the sums to account for the window size\n",
        "    rolling_sum = np.array([rolling_sum[i] - (rolling_sum[i - window_size] if i - window_size >= 0 else 0) for i in range(len(rolling_sum))])\n",
        "    rolling_sum2 = np.array([rolling_sum2[i] - (rolling_sum2[i - window_size] if i - window_size >= 0 else 0) for i in range(len(rolling_sum2))])\n",
        "\n",
        "    # Truncate the sums to match the window size\n",
        "    rolling_sum = rolling_sum[window_size - 1:]\n",
        "    rolling_sum2 = rolling_sum2[window_size - 1:]\n",
        "\n",
        "    # Use the formula to compute the rolling standard deviation\n",
        "    mean = rolling_sum / window_size\n",
        "    return np.sqrt((rolling_sum2 / window_size) - mean**2)\n"
      ],
      "metadata": {
        "id": "XB4xdHrx2CjN"
      },
      "id": "XB4xdHrx2CjN",
      "execution_count": 40,
      "outputs": []
    },
    {
      "cell_type": "code",
      "source": [
        "import numpy as np\n",
        "\n",
        "def rolling_standard_deviation(data, window_size):\n",
        "    data = np.array(data)\n",
        "\n",
        "    sum_values = np.sum(data[:window_size])\n",
        "    sum_square_values = np.sum(data[:window_size] ** 2)\n",
        "    num_values = window_size\n",
        "\n",
        "    result = []\n",
        "    for i in range(len(data) - window_size + 1):\n",
        "        mean = sum_values / num_values\n",
        "        std_dev = np.sqrt((sum_square_values / num_values) - mean ** 2)\n",
        "        result.append(std_dev)\n",
        "\n",
        "        # If we're not at the last window, adjust the sums for the next window\n",
        "        if i < len(data) - window_size:\n",
        "            sum_values = sum_values - data[i] + data[i + window_size]\n",
        "            sum_square_values = sum_square_values - data[i] ** 2 + data[i + window_size] ** 2\n",
        "\n",
        "    return np.array(result)\n"
      ],
      "metadata": {
        "id": "X2QgaXrt26FI"
      },
      "id": "X2QgaXrt26FI",
      "execution_count": 41,
      "outputs": []
    },
    {
      "cell_type": "code",
      "source": [
        "import numpy as np\n",
        "\n",
        "def rolling_standard_deviation(data, window_size):\n",
        "    data = np.array(data)\n",
        "\n",
        "    result = []\n",
        "    for i in range(len(data)):\n",
        "        # Adjust the window size for the start of the data\n",
        "        current_window_size = min(i + 1, window_size)\n",
        "\n",
        "        sum_values = np.sum(data[i - current_window_size + 1:i + 1])\n",
        "        sum_square_values = np.sum(data[i - current_window_size + 1:i + 1] ** 2)\n",
        "        num_values = current_window_size\n",
        "\n",
        "        mean = sum_values / num_values\n",
        "        std_dev = np.sqrt((sum_square_values / num_values) - mean ** 2)\n",
        "        result.append(std_dev)\n",
        "\n",
        "    return np.array(result)\n"
      ],
      "metadata": {
        "id": "dnanoERKCxSX"
      },
      "id": "dnanoERKCxSX",
      "execution_count": 44,
      "outputs": []
    },
    {
      "cell_type": "code",
      "source": [
        "def rolling_sample_standard_deviation(data, window_size):\n",
        "    data = np.array(data)\n",
        "\n",
        "    result = []\n",
        "    for i in range(len(data)):\n",
        "        # Adjust the window size for the start of the data\n",
        "        current_window_size = min(i + 1, window_size)\n",
        "\n",
        "        sum_values = np.sum(data[i - current_window_size + 1:i + 1])\n",
        "        sum_square_values = np.sum(data[i - current_window_size + 1:i + 1] ** 2)\n",
        "        num_values = current_window_size\n",
        "\n",
        "        mean = sum_values / num_values\n",
        "\n",
        "        # Sample standard deviation formula\n",
        "        if num_values > 1:\n",
        "            std_dev = np.sqrt((sum_square_values - num_values * mean**2) / (num_values - 1))\n",
        "        else:\n",
        "            std_dev = 0  # If there's only one data point in the window, the standard deviation is 0\n",
        "\n",
        "        result.append(std_dev)\n",
        "\n",
        "    return np.array(result)\n",
        "\n",
        "rolling_sample_standard_deviation\n"
      ],
      "metadata": {
        "id": "kod8cR92EVnR",
        "outputId": "0823232d-bc5e-43e4-b210-d83a357ffab4",
        "colab": {
          "base_uri": "https://localhost:8080/"
        }
      },
      "id": "kod8cR92EVnR",
      "execution_count": 46,
      "outputs": [
        {
          "output_type": "execute_result",
          "data": {
            "text/plain": [
              "<function __main__.rolling_sample_standard_deviation(data, window_size)>"
            ]
          },
          "metadata": {},
          "execution_count": 46
        }
      ]
    },
    {
      "cell_type": "code",
      "source": [
        "rolling_sample_standard_deviation(df_signals[\"signal\"], window_size)"
      ],
      "metadata": {
        "colab": {
          "base_uri": "https://localhost:8080/"
        },
        "id": "kf9_3FZF1y8n",
        "outputId": "d8f897a2-2dbf-446b-e987-bcb5b0edef20"
      },
      "id": "kf9_3FZF1y8n",
      "execution_count": 48,
      "outputs": [
        {
          "output_type": "execute_result",
          "data": {
            "text/plain": [
              "array([0.        , 0.23719542, 0.17607868, 0.23159615, 0.28917862,\n",
              "       0.19656454, 0.10193421, 0.27060045, 0.3038517 , 0.12804956,\n",
              "       0.32408127, 0.34402894, 0.12422181, 0.24822483, 0.29149883,\n",
              "       0.16651063, 0.25291937, 0.30925186, 0.15796388, 0.23541397,\n",
              "       0.35344084, 0.20591655, 0.14086184, 0.40684701, 0.30999519,\n",
              "       0.24535209, 0.37682967, 0.31976195, 0.1705567 , 0.36260966,\n",
              "       0.27051784, 0.10485339, 0.16272971, 0.30609854, 0.24262345,\n",
              "       0.30345371, 0.39436615, 0.27359343, 0.36443064, 0.36369735,\n",
              "       0.18012944, 0.2703588 , 0.30067222, 0.14368458, 0.26003815,\n",
              "       0.34645601, 0.19010902, 0.15028072, 0.40721965, 0.31200658,\n",
              "       0.13416873, 0.43204305, 0.33600888, 0.10551956, 0.26509873,\n",
              "       0.20127336, 0.01967991, 0.16628085, 0.29970535, 0.15241307,\n",
              "       0.23889603, 0.2347201 , 0.15966619, 0.31554184, 0.40980145,\n",
              "       0.08950224, 0.14407313, 0.30044677, 0.17191098, 0.11288656,\n",
              "       0.26058103, 0.26089857, 0.21894285, 0.3170711 , 0.21397021,\n",
              "       0.13597217, 0.4389933 , 0.35272511, 0.05474316, 0.30139892,\n",
              "       0.28303753, 0.06320926, 0.26552417, 0.34472138, 0.15249534,\n",
              "       0.26286442, 0.3504638 , 0.20488321, 0.1604548 , 0.43360898,\n",
              "       0.33527431, 0.15713151, 0.33257446, 0.24642858, 0.24577682,\n",
              "       0.33322944, 0.16729046, 0.17382075, 0.32983387, 0.18400909])"
            ]
          },
          "metadata": {},
          "execution_count": 48
        }
      ]
    },
    {
      "cell_type": "code",
      "source": [
        "trend"
      ],
      "metadata": {
        "colab": {
          "base_uri": "https://localhost:8080/",
          "height": 285
        },
        "id": "RZSsniCO4Xxq",
        "outputId": "5ce1031f-a162-4250-fa92-62e6f4146091"
      },
      "id": "RZSsniCO4Xxq",
      "execution_count": 43,
      "outputs": [
        {
          "output_type": "execute_result",
          "data": {
            "text/plain": [
              "indexes: []\n",
              "features: [('signal', float64)]\n",
              "events:\n",
              "     (100 events):\n",
              "        timestamps: [ 0.  1.  2. ... 97. 98. 99.]\n",
              "        'signal': [0.     0.1677 0.1438 ... 0.1419 0.2693 0.1502]\n",
              "memory usage: 2.1 kB"
            ],
            "text/html": [
              "<div>\n",
              "  <div style=\"display: table; margin-bottom:11px; padding:5px; font-size:small; line-height:120%; border:1px solid rgba(127, 127, 127, 0.2)\">\n",
              "    <div style=\"display: table\">\n",
              "      <span>\n",
              "        <span style=\"font-weight:bold\">features</span>\n",
              "        <span style=\"\"> [1]:</span>\n",
              "      </span>\n",
              "      <span style=\"color:#0077BB; font-weight:bold\">signal</span>\n",
              "      <span style=\"color:#009988\"> (float64)</span>\n",
              "    </div>\n",
              "    <div style=\"display: table\">\n",
              "      <span>\n",
              "        <span style=\"font-weight:bold\">indexes</span>\n",
              "        <span style=\"\"> [0]:</span>\n",
              "      </span>\n",
              "      <span style=\"font-style:italic\">none</span>\n",
              "    </div>\n",
              "    <div style=\"display: table\">\n",
              "      <span style=\"font-weight:bold\">events: </span>\n",
              "      <span style=\"\">100</span>\n",
              "    </div>\n",
              "    <div style=\"display: table\">\n",
              "      <span style=\"font-weight:bold\">index values: </span>\n",
              "      <span style=\"\">1</span>\n",
              "    </div>\n",
              "    <div style=\"display: table\">\n",
              "      <span style=\"font-weight:bold\">memory usage: </span>\n",
              "      <span style=\"\">2.1 kB</span>\n",
              "    </div>\n",
              "  </div>\n",
              "  <div style=\"display: table\">\n",
              "    <span style=\"font-weight:bold\">index</span>\n",
              "    <span style=\"\"> (</span>\n",
              "    <span style=\"\">) with 100 events</span>\n",
              "  </div>\n",
              "  <table style=\"margin-left:20px; border:1px solid rgba(127, 127, 127, 0.2)\">\n",
              "    <tr>\n",
              "      <th>\n",
              "        <b>\n",
              "          <span style=\"\">timestamp</span>\n",
              "        </b>\n",
              "      </th>\n",
              "      <th>\n",
              "        <b>\n",
              "          <span style=\"color:#0077BB; font-weight:bold; \">signal</span>\n",
              "        </b>\n",
              "      </th>\n",
              "    </tr>\n",
              "    <tr>\n",
              "      <td>\n",
              "        <span style=\"\">0</span>\n",
              "      </td>\n",
              "      <td>\n",
              "        <span style=\"\">0</span>\n",
              "      </td>\n",
              "    </tr>\n",
              "    <tr>\n",
              "      <td>\n",
              "        <span style=\"\">1</span>\n",
              "      </td>\n",
              "      <td>\n",
              "        <span style=\"\">0.1677</span>\n",
              "      </td>\n",
              "    </tr>\n",
              "    <tr>\n",
              "      <td>\n",
              "        <span style=\"\">2</span>\n",
              "      </td>\n",
              "      <td>\n",
              "        <span style=\"\">0.1438</span>\n",
              "      </td>\n",
              "    </tr>\n",
              "    <tr>\n",
              "      <td>\n",
              "        <span style=\"\">3</span>\n",
              "      </td>\n",
              "      <td>\n",
              "        <span style=\"\">0.1891</span>\n",
              "      </td>\n",
              "    </tr>\n",
              "    <tr>\n",
              "      <td>\n",
              "        <span style=\"\">4</span>\n",
              "      </td>\n",
              "      <td>\n",
              "        <span style=\"\">0.2361</span>\n",
              "      </td>\n",
              "    </tr>\n",
              "    <tr>\n",
              "      <td>\n",
              "        <span style=\"\">…</span>\n",
              "      </td>\n",
              "      <td>\n",
              "        <span style=\"\">…</span>\n",
              "      </td>\n",
              "    </tr>\n",
              "  </table>\n",
              "</div>\n"
            ]
          },
          "metadata": {},
          "execution_count": 43
        }
      ]
    },
    {
      "cell_type": "code",
      "source": [
        "import numpy as np\n",
        "\n",
        "def rolling_standard_deviation(data, window_size):\n",
        "    # Calculate the rolling sum and rolling sum of squares\n",
        "    rolling_sum = np.cumsum(data)\n",
        "    rolling_sum2 = np.cumsum(data**2)\n",
        "\n",
        "    # Calculate the rolling sum and rolling sum of squares for the window\n",
        "    rolling_sum = rolling_sum[window_size:] - rolling_sum[:-window_size]\n",
        "    rolling_sum2 = rolling_sum2[window_size:] - rolling_sum2[:-window_size]\n",
        "\n",
        "    # Use the formula to compute the rolling standard deviation\n",
        "    mean = rolling_sum / window_size\n",
        "    return np.sqrt((rolling_sum2 / window_size) - mean**2)\n"
      ],
      "metadata": {
        "id": "EJg8M533zZOV"
      },
      "id": "EJg8M533zZOV",
      "execution_count": 21,
      "outputs": []
    },
    {
      "cell_type": "code",
      "source": [
        "rolling_standard_deviation(df_signals[\"signal\"], window_size)"
      ],
      "metadata": {
        "colab": {
          "base_uri": "https://localhost:8080/"
        },
        "id": "u7X093L_1aHX",
        "outputId": "e4bfb940-3027-4e7f-a91a-ff0a765fd054"
      },
      "id": "u7X093L_1aHX",
      "execution_count": 22,
      "outputs": [
        {
          "output_type": "execute_result",
          "data": {
            "text/plain": [
              "0     NaN\n",
              "1     NaN\n",
              "2     NaN\n",
              "3     0.0\n",
              "4     0.0\n",
              "     ... \n",
              "95    0.0\n",
              "96    0.0\n",
              "97    NaN\n",
              "98    NaN\n",
              "99    NaN\n",
              "Name: signal, Length: 100, dtype: float64"
            ]
          },
          "metadata": {},
          "execution_count": 22
        }
      ]
    },
    {
      "cell_type": "code",
      "execution_count": null,
      "id": "34498512",
      "metadata": {
        "id": "34498512"
      },
      "outputs": [],
      "source": [
        "# Pick only one feature\n",
        "signal = evset_signals[\"signal\"]\n",
        "\n",
        "# Moving avg\n",
        "trend = signal.simple_moving_average(tp.duration.seconds(30))\n",
        "trend.plot()"
      ]
    },
    {
      "cell_type": "markdown",
      "id": "107c2de8-c248-4fc5-9ebe-21d0824f446f",
      "metadata": {
        "id": "107c2de8-c248-4fc5-9ebe-21d0824f446f"
      },
      "source": [
        "Notice that the feature is still named `signal`?\n",
        "\n",
        "Let's give it a new name to avoid confusions."
      ]
    },
    {
      "cell_type": "code",
      "execution_count": null,
      "id": "2da4b521-e496-45d6-8df3-bf272135d33b",
      "metadata": {
        "id": "2da4b521-e496-45d6-8df3-bf272135d33b"
      },
      "outputs": [],
      "source": [
        "# Let's rename the feature by adding a prefix\n",
        "trend = trend.prefix(\"trend_\")\n",
        "trend.plot()"
      ]
    },
    {
      "cell_type": "markdown",
      "id": "eefbbda4-11ee-4b3e-a9de-3f48e10eb12c",
      "metadata": {
        "id": "eefbbda4-11ee-4b3e-a9de-3f48e10eb12c"
      },
      "source": [
        "Now we've the long-term trend, we can subtract it from the original signal to get only the `season` component."
      ]
    },
    {
      "cell_type": "code",
      "execution_count": null,
      "id": "8b16c4e8-d4c6-4e4b-897e-f43468c530e7",
      "metadata": {
        "id": "8b16c4e8-d4c6-4e4b-897e-f43468c530e7"
      },
      "outputs": [],
      "source": [
        "# Remove the slow 'trend' to get 'season'\n",
        "detrend = signal - trend\n",
        "\n",
        "# Rename resulting feature\n",
        "detrend = detrend.rename(\"detrend\")\n",
        "\n",
        "detrend.plot()"
      ]
    },
    {
      "cell_type": "markdown",
      "id": "61a0068b-26b7-44f1-aec6-d6510616c72a",
      "metadata": {
        "id": "61a0068b-26b7-44f1-aec6-d6510616c72a"
      },
      "source": [
        "Using a shorter moving average, we can filter out the noise."
      ]
    },
    {
      "cell_type": "code",
      "execution_count": null,
      "id": "c40db1a0-7d38-42ae-a5be-8137c5496888",
      "metadata": {
        "id": "c40db1a0-7d38-42ae-a5be-8137c5496888"
      },
      "outputs": [],
      "source": [
        "denoise = detrend.simple_moving_average(tp.duration.seconds(1.5)).rename(\"denoise\")\n",
        "denoise.plot()"
      ]
    },
    {
      "cell_type": "markdown",
      "id": "ebc84239-7d71-4ef2-ae8b-490e0c85b564",
      "metadata": {
        "id": "ebc84239-7d71-4ef2-ae8b-490e0c85b564"
      },
      "source": [
        "### Selecting and combining features\n",
        "\n",
        "Features can be selected and combined to create new `EventSets` using two operations:\n",
        "1. **Select:** using `evset[\"feature_1\"]` or `evset[[\"feature_1\", \"feature_2\"]]` will return a new `EventSet` object with only one or two features respectively.\n",
        "1. **Glue:** using `tp.glue(evset_1, evset_2)` will return a new `EventSet` combining all features from both inputs. But the feature names cannot be repeated, so you may need to use `prefix()` or `rename()` before combining.\n",
        "\n",
        "Let's add some operations and then plot together everything:\n",
        "- The `slope` of one of the signals is calculated, by subtracting a delayed version of itself. Note that the time axis for this plot is shifted."
      ]
    },
    {
      "cell_type": "code",
      "execution_count": null,
      "id": "d257c190-244c-49e1-927c-54c9b7ca3d50",
      "metadata": {
        "id": "d257c190-244c-49e1-927c-54c9b7ca3d50"
      },
      "outputs": [],
      "source": [
        "# Pack results to show all plots together\n",
        "evset_result = tp.glue(\n",
        "    signal,\n",
        "    trend,\n",
        "    detrend,\n",
        "    denoise\n",
        ")\n",
        "\n",
        "evset_result.plot()"
      ]
    },
    {
      "cell_type": "markdown",
      "id": "362b9ebb-1b6d-43bd-ac49-0097eb191308",
      "metadata": {
        "id": "362b9ebb-1b6d-43bd-ac49-0097eb191308"
      },
      "source": [
        "### Lag and resample\n",
        "\n",
        "Just as another example, let's also calculate the derivative of the denoised signal, numerically."
      ]
    },
    {
      "cell_type": "code",
      "execution_count": null,
      "id": "9d72379e-3e4d-461f-887e-be9e3c6a2edb",
      "metadata": {
        "id": "9d72379e-3e4d-461f-887e-be9e3c6a2edb"
      },
      "outputs": [],
      "source": [
        "# Estimate numeric derivative\n",
        "\n",
        "# Time step\n",
        "delta_t = 1\n",
        "\n",
        "# Increment in y axis\n",
        "y = denoise\n",
        "y_lag = y.lag(delta_t)\n",
        "delta_y = y - y_lag.resample(y)\n",
        "\n",
        "# Remember the formula? :)\n",
        "derivative = delta_y / delta_t\n",
        "\n",
        "# Also, let's use an interactive plot just for fun.\n",
        "derivative.plot(interactive=True, width_px=600)"
      ]
    },
    {
      "cell_type": "markdown",
      "id": "d1aaecee-87c2-4e75-89ac-35daa3c6610d",
      "metadata": {
        "id": "d1aaecee-87c2-4e75-89ac-35daa3c6610d"
      },
      "source": [
        "Pretty accurate! We had a `0.4` amplitude sine wave with unit frequency, so the derivative should be a `0.4` amplitude cosine.\n",
        "\n",
        "\n",
        "Now, taking a look at the operators, the `lag()` call is pretty self-descriptive. But you might be wondering, why is the `resample()` operator needed?\n",
        "\n",
        "That's because the `y.lag(delta_t)` just shifts the timestamps by `delta_t`, and as a result, `y` and `y_lag` are signals with **different samplings**.\n",
        "\n",
        "But, how would you subtract two signals that are defined at different timestamps? In Temporian, we don't like error-prone implicit _magic_ behavior, so you have to do it explicitly. **You can only do arithmetics between signals with the same samplings.**\n",
        "\n",
        "To create matching samplings, we explicitly use `y_lag.resample(y)`, creating a signal using the timestamps from `y`, but taking the values from `y_lag`. It's essentialy the same signal as `y_lag`, but sampled at the same timestamps as `y`."
      ]
    },
    {
      "cell_type": "markdown",
      "id": "341071dc-ce64-4380-9559-6c4058fecf84",
      "metadata": {
        "id": "341071dc-ce64-4380-9559-6c4058fecf84"
      },
      "source": [
        "### Exporting outputs from Temporian\n",
        "You may need to use this data in different ways for downstream tasks, like training a model using whatever library you need.\n",
        "\n",
        "If you can't use the data directly from Temporian, you can always go back to a pandas DataFrame:"
      ]
    },
    {
      "cell_type": "code",
      "execution_count": null,
      "id": "1ef53eb7",
      "metadata": {
        "id": "1ef53eb7"
      },
      "outputs": [],
      "source": [
        "tp.to_pandas(evset_result)"
      ]
    },
    {
      "cell_type": "markdown",
      "id": "de46f604-8d28-4d56-a83d-a13f1073b6b8",
      "metadata": {
        "id": "de46f604-8d28-4d56-a83d-a13f1073b6b8"
      },
      "source": [
        "## Part 3: Using an index\n",
        "This is the final important concept to get from this introduction.\n",
        "\n",
        "Indexes are useful to handle multiple signals in parallel (as mentioned at the top of this notebook).\n",
        "For example, working with signals from multiple sensor devices or representing sales from many stores or products. The feature names may be exactly the same for all the data, but we need to separate them by setting the correct `index` for each one.\n",
        "\n",
        "### New example data: multiple devices\n",
        "Let's create two signals with overlapping timestamps, with a different `device_id`:"
      ]
    },
    {
      "cell_type": "code",
      "execution_count": null,
      "id": "50093122-4039-452e-b92e-c0b1faaf9762",
      "metadata": {
        "id": "50093122-4039-452e-b92e-c0b1faaf9762"
      },
      "outputs": [],
      "source": [
        "\n",
        "# Two devices with overlapping timestamps\n",
        "df_device_1 = df_signals[:900].copy()\n",
        "df_device_2 = df_signals[300:].copy()\n",
        "\n",
        "# Add a column with device_id and concat\n",
        "df_device_1[\"device_id\"] = \"Device 1\"\n",
        "df_device_2[\"device_id\"] = \"Device 2\"\n",
        "df_both_devices = pd.concat([df_device_1, df_device_2])\n",
        "\n",
        "# Create evset using 'device_id' as index\n",
        "evset_devices = tp.from_pandas(df_both_devices, indexes=[\"device_id\"])\n",
        "evset_devices"
      ]
    },
    {
      "cell_type": "markdown",
      "id": "adf60923-862c-4e37-83f4-5944be6edfff",
      "metadata": {
        "id": "adf60923-862c-4e37-83f4-5944be6edfff"
      },
      "source": [
        "As you can see above, each index has it's own timestamps and feature values. They will always have the same features though, because they're on the same `EventSet`.\n",
        "\n",
        "The plots also accomodate to show each index separately. In particular, see below how the timestamps are different and partly overlapping, and that's completely fine for separate indices. This wouldn't be possible by using different feature names for each sensor, for example."
      ]
    },
    {
      "cell_type": "code",
      "execution_count": null,
      "id": "5e3cc024-37c0-4dd4-8423-e3616b92313f",
      "metadata": {
        "id": "5e3cc024-37c0-4dd4-8423-e3616b92313f"
      },
      "outputs": [],
      "source": [
        "evset_devices[\"signal\"].plot()"
      ]
    },
    {
      "cell_type": "markdown",
      "id": "c0af6393-ea15-441c-a147-73e4993eca68",
      "metadata": {
        "id": "c0af6393-ea15-441c-a147-73e4993eca68"
      },
      "source": [
        "### Operations with index\n",
        "\n",
        "Any operator that we apply now, is aware of the `index` and will be performed over each one separately."
      ]
    },
    {
      "cell_type": "code",
      "execution_count": null,
      "id": "0ec8af3b-e0e2-4308-9300-5fbc1230508a",
      "metadata": {
        "id": "0ec8af3b-e0e2-4308-9300-5fbc1230508a"
      },
      "outputs": [],
      "source": [
        "# Apply some operations\n",
        "trend_i = evset_devices[\"signal\"].simple_moving_average(tp.duration.seconds(30))\n",
        "detrend_i = evset_devices[\"signal\"] - trend_i\n",
        "denoise_i = detrend_i.simple_moving_average(tp.duration.seconds(1.5))\n",
        "\n",
        "# Plot for each index\n",
        "tp.glue(evset_devices[\"signal\"],\n",
        "        detrend_i.rename(\"detrend\"),\n",
        "        denoise_i.rename(\"denoise\")\n",
        "       ).plot()"
      ]
    },
    {
      "cell_type": "markdown",
      "id": "25dd9bf9-60d2-4702-9018-0f1b1f821f00",
      "metadata": {
        "id": "25dd9bf9-60d2-4702-9018-0f1b1f821f00"
      },
      "source": [
        "### Multi-indexes\n",
        "\n",
        "Finally, let's point out that multiple columns of the input data may be set as indexes.\n",
        "\n",
        "For example, in the case of sales in a store, we could use both the store and product columns to group the sequences. In this case, each group would contain the sales for a single product in a single store.\n",
        "\n",
        "This is easy to do since the `indexes` argument is actually a list of columns, and each group represented in Temporian by using a tuple `(store, product)` as the index key."
      ]
    },
    {
      "cell_type": "markdown",
      "id": "f80c654a-06b6-4e69-a800-9663c41d7b79",
      "metadata": {
        "id": "f80c654a-06b6-4e69-a800-9663c41d7b79"
      },
      "source": [
        "## Summary\n",
        "\n",
        "Congratulations! You now have the basic concepts needed to create a data preprocessing pipeline with Temporian:\n",
        "- Defining an **EventSet** and using **operators** on it.\n",
        "- Combine **features** using **select** and **glue**.\n",
        "- Coverting data back and forth between Temporian's **EventSet** and pandas **DataFrames**.\n",
        "- Visualizing input/output data using **EventSet.plot()**.\n",
        "- Operating and plotting with an **index**.\n",
        "\n",
        "### Other important details\n",
        "\n",
        "To keep it short and concise, there are interesting concepts that were not mentioned above:\n",
        "\n",
        "- You might as well use **datetimes** to specify the timestamps. Learn more about it on the [**Time Units** section of the User Guide](https://temporian.readthedocs.io/en/latest/user_guide/#time-units). There are many [**calendar operators**](https://temporian.readthedocs.io/en/stable/reference/temporian/operators/calendar/calendar_day_of_month/) available when working with date timestamps.\n",
        "- Temporian can handle **non-uniform samplings** just as easily (non-equal distance between event timestamps). Read more about the data representation on the **[User Guide's introduction](https://temporian.readthedocs.io/en/latest/user_guide/)** or check the [**sampling** section](https://temporian.readthedocs.io/en/latest/user_guide/#sampling).\n",
        "- Temporian is **strict on the feature types** when applying operations, to avoid potentially silent errors or memory issues. Check the [User Guide's **casting** section](https://temporian.readthedocs.io/en/latest/user_guide/#casting) section to learn how to tackle those cases.\n",
        "- We only used moving average here, but there are a bunch of other [**moving window**](https://temporian.readthedocs.io/en/stable/reference/temporian/operators/window/moving_count/) operators, frequently useful for time sequences manipulation.\n",
        "\n",
        "### Next Steps\n",
        "- The [**Recipes**](https://temporian.readthedocs.io/en/latest/recipes/) are short and self-contained examples showing how to use Temporian in typical use cases.\n",
        "- Try the more advanced [**tutorials**](https://temporian.readthedocs.io/en/latest/tutorials/) to continue learning by example about all these topics and more!\n",
        "- We could only cover a small fraction of **[all available operators](https://temporian.readthedocs.io/en/stable/reference/temporian/operators/add_index/)**.\n",
        "- We put a lot of ❤️ in the **[User Guide](https://temporian.readthedocs.io/en/latest/user_guide/)**, so make sure to check it out 🙂."
      ]
    },
    {
      "cell_type": "code",
      "execution_count": null,
      "id": "73b77f3e-dcdf-4be0-9c15-c625cb4e297e",
      "metadata": {
        "id": "73b77f3e-dcdf-4be0-9c15-c625cb4e297e"
      },
      "outputs": [],
      "source": []
    }
  ],
  "metadata": {
    "kernelspec": {
      "display_name": "Python 3 (ipykernel)",
      "language": "python",
      "name": "python3"
    },
    "language_info": {
      "codemirror_mode": {
        "name": "ipython",
        "version": 3
      },
      "file_extension": ".py",
      "mimetype": "text/x-python",
      "name": "python",
      "nbconvert_exporter": "python",
      "pygments_lexer": "ipython3",
      "version": "3.10.4"
    },
    "colab": {
      "provenance": []
    }
  },
  "nbformat": 4,
  "nbformat_minor": 5
}